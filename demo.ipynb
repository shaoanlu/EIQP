{
  "cells": [
    {
      "cell_type": "code",
      "source": [
        "%%capture\n",
        "!apt-get update && apt-get install -y liblapack-dev liblapacke-dev"
      ],
      "metadata": {
        "id": "RUb5uZRwe1JY"
      },
      "execution_count": 2,
      "outputs": []
    },
    {
      "cell_type": "code",
      "execution_count": 1,
      "metadata": {
        "id": "zwFnJsE6vjf8",
        "outputId": "2689b365-a0fb-4889-c59d-e92313ed3736",
        "colab": {
          "base_uri": "https://localhost:8080/"
        }
      },
      "outputs": [
        {
          "output_type": "stream",
          "name": "stdout",
          "text": [
            "Cloning into 'EIQP'...\n",
            "remote: Enumerating objects: 209, done.\u001b[K\n",
            "remote: Counting objects: 100% (51/51), done.\u001b[K\n",
            "remote: Compressing objects: 100% (46/46), done.\u001b[K\n",
            "remote: Total 209 (delta 22), reused 14 (delta 3), pack-reused 158 (from 1)\u001b[K\n",
            "Receiving objects: 100% (209/209), 254.50 KiB | 4.71 MiB/s, done.\n",
            "Resolving deltas: 100% (87/87), done.\n"
          ]
        }
      ],
      "source": [
        "!git clone https://github.com/shaoanlu/EIQP.git"
      ]
    },
    {
      "cell_type": "code",
      "source": [
        "%cd EIQP"
      ],
      "metadata": {
        "id": "6XXcf6VYbFIZ",
        "outputId": "89e00397-15be-4fe5-f1f3-28a3e40c91bd",
        "colab": {
          "base_uri": "https://localhost:8080/"
        }
      },
      "execution_count": 3,
      "outputs": [
        {
          "output_type": "stream",
          "name": "stdout",
          "text": [
            "/content/EIQP\n"
          ]
        }
      ]
    },
    {
      "cell_type": "code",
      "source": [
        "!pip install -e ."
      ],
      "metadata": {
        "id": "S_a73sXtbFK9",
        "outputId": "146c68ef-3035-414a-aecd-7f944bfd8ef7",
        "colab": {
          "base_uri": "https://localhost:8080/"
        }
      },
      "execution_count": 4,
      "outputs": [
        {
          "output_type": "stream",
          "name": "stdout",
          "text": [
            "Obtaining file:///content/EIQP\n",
            "  Preparing metadata (setup.py) ... \u001b[?25l\u001b[?25hdone\n",
            "Requirement already satisfied: numpy in /usr/local/lib/python3.11/dist-packages (from eiqp==0.1.0) (1.26.4)\n",
            "Installing collected packages: eiqp\n",
            "  Running setup.py develop for eiqp\n",
            "Successfully installed eiqp-0.1.0\n"
          ]
        }
      ]
    },
    {
      "cell_type": "code",
      "source": [],
      "metadata": {
        "id": "2S7SwmTsbFTU"
      },
      "execution_count": 4,
      "outputs": []
    },
    {
      "cell_type": "code",
      "source": [
        "from eiqp import EIQP\n",
        "import numpy as np\n",
        "\n",
        "# Initialize solver\n",
        "solver = EIQP()\n",
        "\n",
        "# Setup your problem\n",
        "Q = np.eye(6)\n",
        "c = np.array([[-1.0], [-0.8], [-0.6], [-0.4], [-0.2], [0.0]])\n",
        "A = -np.eye(6)\n",
        "b = -np.ones(6)\n",
        "\n",
        "# Solve\n",
        "z, status = solver.solve(Q, c, A, b, epsilon=1e-8)\n",
        "\n",
        "print(\"Status:\", status)\n",
        "print(\"Solution:\", z)"
      ],
      "metadata": {
        "id": "vkg4Bm3BbFWG",
        "outputId": "7981d53a-7afd-4806-fb3d-29e40abac436",
        "colab": {
          "base_uri": "https://localhost:8080/"
        }
      },
      "execution_count": 5,
      "outputs": [
        {
          "output_type": "stream",
          "name": "stdout",
          "text": [
            "Status: True\n",
            "Solution: [9.99980090e-01 7.99999998e-01 5.99999999e-01 4.00000000e-01\n",
            " 2.00000001e-01 1.99100974e-05]\n"
          ]
        }
      ]
    },
    {
      "cell_type": "code",
      "source": [],
      "metadata": {
        "id": "0hNnr6XbbFeP"
      },
      "execution_count": null,
      "outputs": []
    }
  ],
  "metadata": {
    "colab": {
      "name": "Colaboratory へようこそ",
      "provenance": []
    },
    "kernelspec": {
      "display_name": "Python 3",
      "name": "python3"
    }
  },
  "nbformat": 4,
  "nbformat_minor": 0
}